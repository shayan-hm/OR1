{
  "nbformat": 4,
  "nbformat_minor": 0,
  "metadata": {
    "colab": {
      "provenance": [],
      "authorship_tag": "ABX9TyM5VupXbgKRDVwLYyc7xmSL",
      "include_colab_link": true
    },
    "kernelspec": {
      "name": "python3",
      "display_name": "Python 3"
    },
    "language_info": {
      "name": "python"
    }
  },
  "cells": [
    {
      "cell_type": "markdown",
      "metadata": {
        "id": "view-in-github",
        "colab_type": "text"
      },
      "source": [
        "<a href=\"https://colab.research.google.com/github/shayan-hm/OR1/blob/main/LP1.ipynb\" target=\"_parent\"><img src=\"https://colab.research.google.com/assets/colab-badge.svg\" alt=\"Open In Colab\"/></a>"
      ]
    },
    {
      "cell_type": "code",
      "source": [
        "!pip install pulp"
      ],
      "metadata": {
        "colab": {
          "base_uri": "https://localhost:8080/"
        },
        "id": "swoCw03qb9Dl",
        "outputId": "e4c22ffc-f4f2-4651-9596-c9d981522451"
      },
      "execution_count": null,
      "outputs": [
        {
          "output_type": "stream",
          "name": "stdout",
          "text": [
            "Collecting pulp\n",
            "  Downloading pulp-3.1.1-py3-none-any.whl.metadata (1.3 kB)\n",
            "Downloading pulp-3.1.1-py3-none-any.whl (16.4 MB)\n",
            "\u001b[2K   \u001b[90m━━━━━━━━━━━━━━━━━━━━━━━━━━━━━━━━━━━━━━━━\u001b[0m \u001b[32m16.4/16.4 MB\u001b[0m \u001b[31m60.1 MB/s\u001b[0m eta \u001b[36m0:00:00\u001b[0m\n",
            "\u001b[?25hInstalling collected packages: pulp\n",
            "Successfully installed pulp-3.1.1\n"
          ]
        }
      ]
    },
    {
      "cell_type": "code",
      "source": [
        "from pulp import *"
      ],
      "metadata": {
        "id": "cWGIjLD4cFF1"
      },
      "execution_count": null,
      "outputs": []
    },
    {
      "cell_type": "markdown",
      "source": [
        "تعریف مدل از نوع ماکسیمایز"
      ],
      "metadata": {
        "id": "MsmeJeg4gIvL"
      }
    },
    {
      "cell_type": "code",
      "source": [
        "model = LpProblem(\"Maximize_Z\", LpMaximize)"
      ],
      "metadata": {
        "id": "U50KyrhjcMqm"
      },
      "execution_count": null,
      "outputs": []
    },
    {
      "cell_type": "markdown",
      "source": [
        "تعریف متغیر های تصمیم به شکل بزرگتر مساوی 0"
      ],
      "metadata": {
        "id": "a9TUX4MIgX_Z"
      }
    },
    {
      "cell_type": "code",
      "source": [
        "# تعریف متغیرها با کران پایین صفر (x ≥ 0, y ≥ 0)\n",
        "x1 = LpVariable(\"x1\", lowBound=0)\n",
        "x2 = LpVariable(\"x2\", lowBound=0)\n",
        "x3 = LpVariable(\"x3\", lowBound=0)"
      ],
      "metadata": {
        "id": "q_z2Y1exdMaB"
      },
      "execution_count": null,
      "outputs": []
    },
    {
      "cell_type": "code",
      "source": [
        "# تعریف تابع هدف\n",
        "model += (10*x1)+(6*x2)+(14*x3)"
      ],
      "metadata": {
        "id": "KYSUvjoBdPk_"
      },
      "execution_count": null,
      "outputs": []
    },
    {
      "cell_type": "code",
      "source": [
        "# اضافه کردن محدودیت‌ها\n",
        "model += (2*x1)+(x2)+(3*x3) <= 90\n",
        "model += (x1)+(1.2*x2)+(1.5*x3) <= 250"
      ],
      "metadata": {
        "id": "Y1CGMFVBdTMa"
      },
      "execution_count": null,
      "outputs": []
    },
    {
      "cell_type": "code",
      "source": [
        "# حل مدل\n",
        "model.solve()"
      ],
      "metadata": {
        "colab": {
          "base_uri": "https://localhost:8080/"
        },
        "id": "EmTC2QkEdVUF",
        "outputId": "fab1911b-f83e-4f90-a6f9-d91f5d9fd8fc"
      },
      "execution_count": null,
      "outputs": [
        {
          "output_type": "execute_result",
          "data": {
            "text/plain": [
              "1"
            ]
          },
          "metadata": {},
          "execution_count": 22
        }
      ]
    },
    {
      "cell_type": "code",
      "source": [
        "# چاپ نتایج\n",
        "print(\"وضعیت حل:\", LpStatus[model.status])\n",
        "print(f\"x1 = {x1.varValue}\")\n",
        "print(f\"x2 = {x2.varValue}\")\n",
        "print(f\"x3 = {x3.varValue}\")\n",
        "print(f\"Z = {value(model.objective)}\")"
      ],
      "metadata": {
        "colab": {
          "base_uri": "https://localhost:8080/"
        },
        "id": "t_nhQqbodXPz",
        "outputId": "095c5288-1081-4367-aa47-aec645aee3f2"
      },
      "execution_count": null,
      "outputs": [
        {
          "output_type": "stream",
          "name": "stdout",
          "text": [
            "وضعیت حل: Optimal\n",
            "x1 = 0.0\n",
            "x2 = 90.0\n",
            "x3 = 0.0\n",
            "Z = 540.0\n"
          ]
        }
      ]
    },
    {
      "cell_type": "code",
      "source": [],
      "metadata": {
        "id": "d8JAuBvZhHkS"
      },
      "execution_count": null,
      "outputs": []
    }
  ]
}